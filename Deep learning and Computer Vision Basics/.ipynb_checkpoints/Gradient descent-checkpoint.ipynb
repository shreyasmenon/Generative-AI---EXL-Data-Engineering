{
 "cells": [
  {
   "cell_type": "code",
   "execution_count": 1,
   "id": "eb589c37",
   "metadata": {},
   "outputs": [],
   "source": [
    "import numpy as np\n",
    "from numpy.random import rand\n",
    "import matplotlib.pyplot as plt"
   ]
  },
  {
   "cell_type": "code",
   "execution_count": 2,
   "id": "d044da93",
   "metadata": {},
   "outputs": [],
   "source": [
    "# y = x2\n",
    "def objective(x):\n",
    "    return x*x"
   ]
  },
  {
   "cell_type": "code",
   "execution_count": 3,
   "id": "d1d25eb9",
   "metadata": {},
   "outputs": [],
   "source": [
    "# dy/dx = 2x\n",
    "def deravative_grad(x):\n",
    "    return 2*x"
   ]
  },
  {
   "cell_type": "code",
   "execution_count": 4,
   "id": "fb5d29a9",
   "metadata": {},
   "outputs": [],
   "source": [
    "# Main gradient descent function\n",
    "def gradient_descent(x, num_iteration,learning_rate):\n",
    "    \n",
    "    current = x\n",
    "    for i in range(num_iteration):\n",
    "        \n",
    "        grad = deravative_grad(current)\n",
    "        print('Current value = %f'%current)\n",
    "        print('Gradient at current value = %f'%grad)\n",
    "        \n",
    "        #updating the current val\n",
    "        current = current - learning_rate * grad\n",
    "        \n",
    "        solution = objective(current)\n",
    "        print('>Iteration: %d, f(%s) = %.5f' % (i, current, solution))\n",
    "        plt.scatter(current,solution)\n",
    "        plt.plot(current,solution)\n",
    "        \n",
    "    return [current, solution] "
   ]
  },
  {
   "cell_type": "code",
   "execution_count": 5,
   "id": "c3c2649d",
   "metadata": {},
   "outputs": [
    {
     "data": {
      "text/plain": [
       "Text(0, 0.5, 'f(x)')"
      ]
     },
     "execution_count": 5,
     "metadata": {},
     "output_type": "execute_result"
    },
    {
     "data": {
      "image/png": "[encoded data removed]",
      "text/plain": [
       "<Figure size 432x288 with 1 Axes>"
      ]
     },
     "metadata": {
      "needs_background": "light"
     },
     "output_type": "display_data"
    }
   ],
   "source": [
    "#Visualizaing objective\n",
    "x = np.arange(-10,11)\n",
    "f = objective(x)\n",
    "plt.scatter(x,f)\n",
    "plt.plot(x,f)\n",
    "plt.xlabel('X')\n",
    "plt.ylabel('f(x)')"
   ]
  },
  {
   "cell_type": "code",
   "execution_count": 6,
   "id": "50c1e203",
   "metadata": {},
   "outputs": [],
   "source": [
    "x = 5 #Initial value\n",
    "num_iter = 30\n",
    "learning_rate = 0.1"
   ]
  },
  {
   "cell_type": "code",
   "execution_count": 7,
   "id": "3cd316a2",
   "metadata": {
    "scrolled": false
   },
   "outputs": [
    {
     "name": "stdout",
     "output_type": "stream",
     "text": [
      "Current value = 5.000000\n",
      "Gradient at current value = 10.000000\n",
      ">Iteration: 0, f(4.0) = 16.00000\n",
      "Current value = 4.000000\n",
      "Gradient at current value = 8.000000\n",
      ">Iteration: 1, f(3.2) = 10.24000\n",
      "Current value = 3.200000\n",
      "Gradient at current value = 6.400000\n",
      ">Iteration: 2, f(2.56) = 6.55360\n",
      "Current value = 2.560000\n",
      "Gradient at current value = 5.120000\n",
      ">Iteration: 3, f(2.048) = 4.19430\n",
      "Current value = 2.048000\n",
      "Gradient at current value = 4.096000\n",
      ">Iteration: 4, f(1.6384) = 2.68435\n",
      "Current value = 1.638400\n",
      "Gradient at current value = 3.276800\n",
      ">Iteration: 5, f(1.31072) = 1.71799\n",
      "Current value = 1.310720\n",
      "Gradient at current value = 2.621440\n",
      ">Iteration: 6, f(1.0485760000000002) = 1.09951\n",
      "Current value = 1.048576\n",
      "Gradient at current value = 2.097152\n",
      ">Iteration: 7, f(0.8388608000000002) = 0.70369\n",
      "Current value = 0.838861\n",
      "Gradient at current value = 1.677722\n",
      ">Iteration: 8, f(0.6710886400000001) = 0.45036\n",
      "Current value = 0.671089\n",
      "Gradient at current value = 1.342177\n",
      ">Iteration: 9, f(0.5368709120000001) = 0.28823\n",
      "Current value = 0.536871\n",
      "Gradient at current value = 1.073742\n",
      ">Iteration: 10, f(0.4294967296000001) = 0.18447\n",
      "Current value = 0.429497\n",
      "Gradient at current value = 0.858993\n",
      ">Iteration: 11, f(0.3435973836800001) = 0.11806\n",
      "Current value = 0.343597\n",
      "Gradient at current value = 0.687195\n",
      ">Iteration: 12, f(0.27487790694400005) = 0.07556\n",
      "Current value = 0.274878\n",
      "Gradient at current value = 0.549756\n",
      ">Iteration: 13, f(0.21990232555520003) = 0.04836\n",
      "Current value = 0.219902\n",
      "Gradient at current value = 0.439805\n",
      ">Iteration: 14, f(0.17592186044416003) = 0.03095\n",
      "Current value = 0.175922\n",
      "Gradient at current value = 0.351844\n",
      ">Iteration: 15, f(0.140737488355328) = 0.01981\n",
      "Current value = 0.140737\n",
      "Gradient at current value = 0.281475\n",
      ">Iteration: 16, f(0.11258999068426241) = 0.01268\n",
      "Current value = 0.112590\n",
      "Gradient at current value = 0.225180\n",
      ">Iteration: 17, f(0.09007199254740993) = 0.00811\n",
      "Current value = 0.090072\n",
      "Gradient at current value = 0.180144\n",
      ">Iteration: 18, f(0.07205759403792794) = 0.00519\n",
      "Current value = 0.072058\n",
      "Gradient at current value = 0.144115\n",
      ">Iteration: 19, f(0.057646075230342354) = 0.00332\n",
      "Current value = 0.057646\n",
      "Gradient at current value = 0.115292\n",
      ">Iteration: 20, f(0.04611686018427388) = 0.00213\n",
      "Current value = 0.046117\n",
      "Gradient at current value = 0.092234\n",
      ">Iteration: 21, f(0.03689348814741911) = 0.00136\n",
      "Current value = 0.036893\n",
      "Gradient at current value = 0.073787\n",
      ">Iteration: 22, f(0.029514790517935284) = 0.00087\n",
      "Current value = 0.029515\n",
      "Gradient at current value = 0.059030\n",
      ">Iteration: 23, f(0.02361183241434823) = 0.00056\n",
      "Current value = 0.023612\n",
      "Gradient at current value = 0.047224\n",
      ">Iteration: 24, f(0.018889465931478583) = 0.00036\n",
      "Current value = 0.018889\n",
      "Gradient at current value = 0.037779\n",
      ">Iteration: 25, f(0.015111572745182867) = 0.00023\n",
      "Current value = 0.015112\n",
      "Gradient at current value = 0.030223\n",
      ">Iteration: 26, f(0.012089258196146294) = 0.00015\n",
      "Current value = 0.012089\n",
      "Gradient at current value = 0.024179\n",
      ">Iteration: 27, f(0.009671406556917036) = 0.00009\n",
      "Current value = 0.009671\n",
      "Gradient at current value = 0.019343\n",
      ">Iteration: 28, f(0.007737125245533628) = 0.00006\n",
      "Current value = 0.007737\n",
      "Gradient at current value = 0.015474\n",
      ">Iteration: 29, f(0.006189700196426903) = 0.00004\n"
     ]
    },
    {
     "data": {
      "image/png": "[encoded data removed]",
      "text/plain": [
       "<Figure size 432x288 with 1 Axes>"
      ]
     },
     "metadata": {
      "needs_background": "light"
     },
     "output_type": "display_data"
    }
   ],
   "source": [
    "best, score = gradient_descent(x,num_iter,learning_rate)"
   ]
  }
 ],
 "metadata": {
  "kernelspec": {
   "display_name": "Python 3 (ipykernel)",
   "language": "python",
   "name": "python3"
  },
  "language_info": {
   "codemirror_mode": {
    "name": "ipython",
    "version": 3
   },
   "file_extension": ".py",
   "mimetype": "text/x-python",
   "name": "python",
   "nbconvert_exporter": "python",
   "pygments_lexer": "ipython3",
   "version": "3.7.11"
  }
 },
 "nbformat": 4,
 "nbformat_minor": 5
}
